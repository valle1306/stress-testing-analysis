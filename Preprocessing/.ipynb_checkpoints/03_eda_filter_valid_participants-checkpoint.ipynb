{
 "cells": [
  {
   "cell_type": "markdown",
   "id": "241796e5",
   "metadata": {},
   "source": [
    "** Summary of this notebook **\n",
    "* Assessed EDA signal quality per day *missingness %, std dev)\n",
    "* Flasgged valid days\n",
    "* Counted valid days per participant\n",
    "* Visualized thresholds (e.g. >= 3 days)\n",
    "\n",
    "To ensure the trustworthy of EDA data"
   ]
  },
  {
   "cell_type": "code",
   "execution_count": 1,
   "id": "0fd19573",
   "metadata": {},
   "outputs": [],
   "source": [
    "import pandas as pd\n",
    "import os\n",
    "\n",
    "# Paths\n",
    "base_dir = \"C:/Users/lpnhu/Downloads/Stress_Testing_Analysis\"\n",
    "qc_path = os.path.join(base_dir, \"eda_qc_reports\", \"eda_signal_quality_all_participants.csv\")\n",
    "output_dir = os.path.join(base_dir, \"eda_qc_reports\")\n",
    "os.makedirs(output_dir, exist_ok=True)\n"
   ]
  },
  {
   "cell_type": "code",
   "execution_count": 2,
   "id": "38344f8f",
   "metadata": {},
   "outputs": [
    {
     "name": "stdout",
     "output_type": "stream",
     "text": [
      "QC file loaded: 85 rows\n"
     ]
    },
    {
     "data": {
      "text/html": [
       "<div>\n",
       "<style scoped>\n",
       "    .dataframe tbody tr th:only-of-type {\n",
       "        vertical-align: middle;\n",
       "    }\n",
       "\n",
       "    .dataframe tbody tr th {\n",
       "        vertical-align: top;\n",
       "    }\n",
       "\n",
       "    .dataframe thead th {\n",
       "        text-align: right;\n",
       "    }\n",
       "</style>\n",
       "<table border=\"1\" class=\"dataframe\">\n",
       "  <thead>\n",
       "    <tr style=\"text-align: right;\">\n",
       "      <th></th>\n",
       "      <th>participant_id</th>\n",
       "      <th>file</th>\n",
       "      <th>date</th>\n",
       "      <th>n_rows</th>\n",
       "      <th>eda_column</th>\n",
       "      <th>eda_na_pct</th>\n",
       "      <th>eda_std</th>\n",
       "      <th>valid_EDA_day</th>\n",
       "    </tr>\n",
       "  </thead>\n",
       "  <tbody>\n",
       "    <tr>\n",
       "      <th>0</th>\n",
       "      <td>1</td>\n",
       "      <td>cleaned_2023-12-24.csv</td>\n",
       "      <td>2023-12-24</td>\n",
       "      <td>1440</td>\n",
       "      <td>eda_scl_usiemens</td>\n",
       "      <td>99.930556</td>\n",
       "      <td>NaN</td>\n",
       "      <td>0</td>\n",
       "    </tr>\n",
       "    <tr>\n",
       "      <th>1</th>\n",
       "      <td>1</td>\n",
       "      <td>cleaned_2023-12-25.csv</td>\n",
       "      <td>2023-12-25</td>\n",
       "      <td>1440</td>\n",
       "      <td>eda_scl_usiemens</td>\n",
       "      <td>5.555556</td>\n",
       "      <td>0.491573</td>\n",
       "      <td>1</td>\n",
       "    </tr>\n",
       "    <tr>\n",
       "      <th>2</th>\n",
       "      <td>1</td>\n",
       "      <td>cleaned_2023-12-26.csv</td>\n",
       "      <td>2023-12-26</td>\n",
       "      <td>1440</td>\n",
       "      <td>eda_scl_usiemens</td>\n",
       "      <td>27.152778</td>\n",
       "      <td>0.798814</td>\n",
       "      <td>1</td>\n",
       "    </tr>\n",
       "    <tr>\n",
       "      <th>3</th>\n",
       "      <td>1</td>\n",
       "      <td>cleaned_2023-12-27.csv</td>\n",
       "      <td>2023-12-27</td>\n",
       "      <td>1440</td>\n",
       "      <td>eda_scl_usiemens</td>\n",
       "      <td>0.000000</td>\n",
       "      <td>0.558480</td>\n",
       "      <td>1</td>\n",
       "    </tr>\n",
       "    <tr>\n",
       "      <th>4</th>\n",
       "      <td>1</td>\n",
       "      <td>cleaned_2023-12-28.csv</td>\n",
       "      <td>2023-12-28</td>\n",
       "      <td>1440</td>\n",
       "      <td>eda_scl_usiemens</td>\n",
       "      <td>6.458333</td>\n",
       "      <td>1.082121</td>\n",
       "      <td>1</td>\n",
       "    </tr>\n",
       "  </tbody>\n",
       "</table>\n",
       "</div>"
      ],
      "text/plain": [
       "   participant_id                    file        date  n_rows  \\\n",
       "0               1  cleaned_2023-12-24.csv  2023-12-24    1440   \n",
       "1               1  cleaned_2023-12-25.csv  2023-12-25    1440   \n",
       "2               1  cleaned_2023-12-26.csv  2023-12-26    1440   \n",
       "3               1  cleaned_2023-12-27.csv  2023-12-27    1440   \n",
       "4               1  cleaned_2023-12-28.csv  2023-12-28    1440   \n",
       "\n",
       "         eda_column  eda_na_pct   eda_std  valid_EDA_day  \n",
       "0  eda_scl_usiemens   99.930556       NaN              0  \n",
       "1  eda_scl_usiemens    5.555556  0.491573              1  \n",
       "2  eda_scl_usiemens   27.152778  0.798814              1  \n",
       "3  eda_scl_usiemens    0.000000  0.558480              1  \n",
       "4  eda_scl_usiemens    6.458333  1.082121              1  "
      ]
     },
     "execution_count": 2,
     "metadata": {},
     "output_type": "execute_result"
    }
   ],
   "source": [
    "qc_df = pd.read_csv(qc_path)\n",
    "print(f\"QC file loaded: {qc_df.shape[0]} rows\")\n",
    "qc_df.head()\n"
   ]
  },
  {
   "cell_type": "code",
   "execution_count": 3,
   "id": "a0d7cbed",
   "metadata": {},
   "outputs": [
    {
     "name": "stdout",
     "output_type": "stream",
     "text": [
      "✅ Valid EDA days: 65\n"
     ]
    }
   ],
   "source": [
    "valid_days_df = qc_df[qc_df[\"valid_EDA_day\"] == 1].copy()\n",
    "print(f\"✅ Valid EDA days: {valid_days_df.shape[0]}\")"
   ]
  },
  {
   "cell_type": "code",
   "execution_count": 10,
   "id": "6c178751",
   "metadata": {},
   "outputs": [
    {
     "data": {
      "text/html": [
       "<div>\n",
       "<style scoped>\n",
       "    .dataframe tbody tr th:only-of-type {\n",
       "        vertical-align: middle;\n",
       "    }\n",
       "\n",
       "    .dataframe tbody tr th {\n",
       "        vertical-align: top;\n",
       "    }\n",
       "\n",
       "    .dataframe thead th {\n",
       "        text-align: right;\n",
       "    }\n",
       "</style>\n",
       "<table border=\"1\" class=\"dataframe\">\n",
       "  <thead>\n",
       "    <tr style=\"text-align: right;\">\n",
       "      <th></th>\n",
       "      <th>participant_id</th>\n",
       "      <th>n_valid_days</th>\n",
       "    </tr>\n",
       "  </thead>\n",
       "  <tbody>\n",
       "    <tr>\n",
       "      <th>0</th>\n",
       "      <td>1</td>\n",
       "      <td>4</td>\n",
       "    </tr>\n",
       "    <tr>\n",
       "      <th>1</th>\n",
       "      <td>2</td>\n",
       "      <td>4</td>\n",
       "    </tr>\n",
       "    <tr>\n",
       "      <th>2</th>\n",
       "      <td>3</td>\n",
       "      <td>8</td>\n",
       "    </tr>\n",
       "    <tr>\n",
       "      <th>3</th>\n",
       "      <td>4</td>\n",
       "      <td>9</td>\n",
       "    </tr>\n",
       "    <tr>\n",
       "      <th>4</th>\n",
       "      <td>5</td>\n",
       "      <td>7</td>\n",
       "    </tr>\n",
       "    <tr>\n",
       "      <th>5</th>\n",
       "      <td>6</td>\n",
       "      <td>9</td>\n",
       "    </tr>\n",
       "    <tr>\n",
       "      <th>6</th>\n",
       "      <td>7</td>\n",
       "      <td>12</td>\n",
       "    </tr>\n",
       "    <tr>\n",
       "      <th>7</th>\n",
       "      <td>8</td>\n",
       "      <td>9</td>\n",
       "    </tr>\n",
       "    <tr>\n",
       "      <th>8</th>\n",
       "      <td>9</td>\n",
       "      <td>3</td>\n",
       "    </tr>\n",
       "  </tbody>\n",
       "</table>\n",
       "</div>"
      ],
      "text/plain": [
       "   participant_id  n_valid_days\n",
       "0               1             4\n",
       "1               2             4\n",
       "2               3             8\n",
       "3               4             9\n",
       "4               5             7\n",
       "5               6             9\n",
       "6               7            12\n",
       "7               8             9\n",
       "8               9             3"
      ]
     },
     "execution_count": 10,
     "metadata": {},
     "output_type": "execute_result"
    }
   ],
   "source": [
    "#Count valid days per participant\n",
    "valid_counts = (\n",
    "    valid_days_df.groupby(\"participant_id\")\n",
    "    .size()\n",
    "    .reset_index(name=\"n_valid_days\")\n",
    ")\n",
    "valid_counts\n"
   ]
  },
  {
   "cell_type": "code",
   "execution_count": 11,
   "id": "b0d3f3fe",
   "metadata": {},
   "outputs": [
    {
     "name": "stdout",
     "output_type": "stream",
     "text": [
      "✅ Participants with ≥ 3 valid days: 9\n"
     ]
    }
   ],
   "source": [
    "min_required_days = 3\n",
    "valid_participants = valid_counts[valid_counts[\"n_valid_days\"] >= min_required_days]\n",
    "print(f\"✅ Participants with ≥ {min_required_days} valid days: {len(valid_participants)}\")\n",
    "\n",
    "# Get list of valid participant IDs\n",
    "valid_ids = valid_participants[\"participant_id\"].tolist()\n"
   ]
  },
  {
   "cell_type": "code",
   "execution_count": 12,
   "id": "8f291905",
   "metadata": {},
   "outputs": [
    {
     "name": "stdout",
     "output_type": "stream",
     "text": [
      "✅ Saved filtered summary and valid ID list.\n"
     ]
    }
   ],
   "source": [
    "# Save full summary\n",
    "valid_counts.to_csv(os.path.join(output_dir, \"eda_qc_filtered_summary.csv\"), index=False)\n",
    "\n",
    "# Save valid participant IDs\n",
    "pd.Series(valid_ids, name=\"participant_id\").to_csv(\n",
    "    os.path.join(output_dir, \"eda_valid_participant_ids.csv\"), index=False\n",
    ")\n",
    "\n",
    "print(\"✅ Saved filtered summary and valid ID list.\")"
   ]
  },
  {
   "cell_type": "code",
   "execution_count": 13,
   "id": "6b5bdb55",
   "metadata": {},
   "outputs": [
    {
     "data": {
      "image/png": "[encoded data removed]",
      "text/plain": [
       "<Figure size 640x480 with 1 Axes>"
      ]
     },
     "metadata": {},
     "output_type": "display_data"
    }
   ],
   "source": [
    "import seaborn as sns\n",
    "import matplotlib.pyplot as plt\n",
    "\n",
    "sns.barplot(x=\"participant_id\", y=\"n_valid_days\", data=valid_counts, palette=\"crest\")\n",
    "plt.axhline(min_required_days, color=\"red\", linestyle=\"--\", label=f\"{min_required_days}-day threshold\")\n",
    "plt.title(\"Number of Valid EDA Days per Participant\")\n",
    "plt.xlabel(\"Participant ID\")\n",
    "plt.ylabel(\"Valid Days\")\n",
    "plt.xticks(rotation=45)\n",
    "plt.legend()\n",
    "plt.tight_layout()\n",
    "plt.show()"
   ]
  },
  {
   "cell_type": "code",
   "execution_count": null,
   "id": "433c51b3",
   "metadata": {},
   "outputs": [],
   "source": []
  }
 ],
 "metadata": {
  "kernelspec": {
   "display_name": "Python 3 (ipykernel)",
   "language": "python",
   "name": "python3"
  },
  "language_info": {
   "codemirror_mode": {
    "name": "ipython",
    "version": 3
   },
   "file_extension": ".py",
   "mimetype": "text/x-python",
   "name": "python",
   "nbconvert_exporter": "python",
   "pygments_lexer": "ipython3",
   "version": "3.11.5"
  }
 },
 "nbformat": 4,
 "nbformat_minor": 5
}
