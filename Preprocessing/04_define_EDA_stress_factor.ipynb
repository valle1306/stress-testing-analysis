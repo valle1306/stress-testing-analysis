{
 "cells": [
  {
   "cell_type": "markdown",
   "id": "4c50300d",
   "metadata": {},
   "source": [
    "# Section 1: Load, define criteria for EDA stress factor"
   ]
  },
  {
   "cell_type": "code",
   "execution_count": 2,
   "id": "ca1e17bb",
   "metadata": {},
   "outputs": [],
   "source": [
    "import pandas as pd\n",
    "import numpy as np\n",
    "import os\n",
    "\n",
    "# === CONFIG ===\n",
    "base_dir = \"C:/Users/lpnhu/Downloads/Stress_Testing_Analysis\"\n",
    "qc_path = os.path.join(base_dir, \"eda_qc_reports\", \"eda_signal_quality_all_participants.csv\")\n",
    "output_path = os.path.join(base_dir, \"eda_qc_reports\", \"eda_stress_features.csv\")\n",
    "os.makedirs(os.path.dirname(output_path), exist_ok=True)\n",
    "\n",
    "# === LOAD QC SUMMARY ===\n",
    "qc_df = pd.read_csv(qc_path)\n",
    "qc_df[\"date\"] = pd.to_datetime(qc_df[\"date\"])\n",
    "\n",
    "# === FILTER TO VALID EDA DAYS ONLY ===\n",
    "valid_df = qc_df[qc_df[\"valid_EDA_day\"] == 1].copy()\n",
    "valid_df = valid_df.sort_values([\"participant_id\", \"date\"])\n"
   ]
  },
  {
   "cell_type": "code",
   "execution_count": 3,
   "id": "605edb76",
   "metadata": {},
   "outputs": [
    {
     "name": "stdout",
     "output_type": "stream",
     "text": [
      "✅ Found 42 3-day continuous valid windows\n"
     ]
    }
   ],
   "source": [
    "# Helper to find 3-day continuous runs\n",
    "def find_3day_windows(df):\n",
    "    windows = []\n",
    "    for pid, group in df.groupby(\"participant_id\"):\n",
    "        group = group.sort_values(\"date\").reset_index(drop=True)\n",
    "        group[\"day_diff\"] = group[\"date\"].diff().dt.days.fillna(1)\n",
    "        group[\"is_consecutive\"] = (group[\"day_diff\"] == 1)\n",
    "        for i in range(len(group) - 2):\n",
    "            d1, d2, d3 = group.loc[i:i+2, \"date\"]\n",
    "            if (d2 - d1).days == 1 and (d3 - d2).days == 1:\n",
    "                windows.append({\n",
    "                    \"participant_id\": pid,\n",
    "                    \"start_date\": d1,\n",
    "                    \"mid_date\": d2,\n",
    "                    \"end_date\": d3\n",
    "                })\n",
    "    return pd.DataFrame(windows)\n",
    "\n",
    "three_day_windows = find_3day_windows(valid_df)\n",
    "print(f\"✅ Found {len(three_day_windows)} 3-day continuous valid windows\")"
   ]
  },
  {
   "cell_type": "code",
   "execution_count": 4,
   "id": "4f979daa",
   "metadata": {},
   "outputs": [
    {
     "data": {
      "text/plain": [
       "8"
      ]
     },
     "execution_count": 4,
     "metadata": {},
     "output_type": "execute_result"
    }
   ],
   "source": [
    "three_day_windows[\"participant_id\"].nunique()"
   ]
  },
  {
   "cell_type": "code",
   "execution_count": 5,
   "id": "4767c795",
   "metadata": {},
   "outputs": [
    {
     "name": "stdout",
     "output_type": "stream",
     "text": [
      "Participants with valid days but no 3-day continuous window: {9}\n"
     ]
    }
   ],
   "source": [
    "valid_ids = set(valid_df[\"participant_id\"].unique())\n",
    "window_ids = set(three_day_windows[\"participant_id\"].unique())\n",
    "missing_ids = valid_ids - window_ids\n",
    "print(f\"Participants with valid days but no 3-day continuous window: {missing_ids}\")"
   ]
  },
  {
   "cell_type": "markdown",
   "id": "fb0991ec",
   "metadata": {},
   "source": [
    "## Extract 4-day continuous valid windows"
   ]
  },
  {
   "cell_type": "code",
   "execution_count": 6,
   "id": "8d996ae6",
   "metadata": {},
   "outputs": [],
   "source": [
    "def find_4day_windows(df):\n",
    "    windows = []\n",
    "    for pid, group in df.groupby(\"participant_id\"):\n",
    "        group = group.sort_values(\"date\").reset_index(drop=True)\n",
    "        group[\"day_diff\"] = group[\"date\"].diff().dt.days.fillna(1)\n",
    "        for i in range(len(group) - 3):\n",
    "            d1, d2, d3, d4 = group.loc[i:i+3, \"date\"]\n",
    "            if (d2 - d1).days == 1 and (d3 - d2).days == 1 and (d4 - d3).days == 1:\n",
    "                windows.append({\n",
    "                    \"participant_id\": pid,\n",
    "                    \"start_date\": d1,\n",
    "                    \"mid_date1\": d2,\n",
    "                    \"mid_date2\": d3,\n",
    "                    \"end_date\": d4\n",
    "                })\n",
    "    return pd.DataFrame(windows)\n"
   ]
  },
  {
   "cell_type": "code",
   "execution_count": 7,
   "id": "3fae9549",
   "metadata": {},
   "outputs": [
    {
     "name": "stdout",
     "output_type": "stream",
     "text": [
      "✅ Found 32 4-day continuous valid windows\n",
      "Participants: [1 2 3 4 5 6 7 8]\n"
     ]
    }
   ],
   "source": [
    "four_day_windows = find_4day_windows(valid_df)\n",
    "print(f\"✅ Found {len(four_day_windows)} 4-day continuous valid windows\")\n",
    "print(f\"Participants: {four_day_windows['participant_id'].unique()}\")\n"
   ]
  },
  {
   "cell_type": "code",
   "execution_count": 9,
   "id": "6a8eec5b",
   "metadata": {},
   "outputs": [],
   "source": [
    "import os\n",
    "\n",
    "output_path = \"eda_qc_reports/eda_4day_stress_windows.csv\"\n",
    "os.makedirs(os.path.dirname(output_path), exist_ok=True)  # Create folder if it doesn't exist\n",
    "four_day_windows.to_csv(output_path, index=False)\n"
   ]
  },
  {
   "cell_type": "code",
   "execution_count": 10,
   "id": "b260562a",
   "metadata": {},
   "outputs": [
    {
     "data": {
      "text/html": [
       "<div>\n",
       "<style scoped>\n",
       "    .dataframe tbody tr th:only-of-type {\n",
       "        vertical-align: middle;\n",
       "    }\n",
       "\n",
       "    .dataframe tbody tr th {\n",
       "        vertical-align: top;\n",
       "    }\n",
       "\n",
       "    .dataframe thead th {\n",
       "        text-align: right;\n",
       "    }\n",
       "</style>\n",
       "<table border=\"1\" class=\"dataframe\">\n",
       "  <thead>\n",
       "    <tr style=\"text-align: right;\">\n",
       "      <th></th>\n",
       "      <th>participant_id,date,stress_level,notes</th>\n",
       "    </tr>\n",
       "  </thead>\n",
       "  <tbody>\n",
       "    <tr>\n",
       "      <th>0</th>\n",
       "      <td>1,2023-12-24,2,\"Night shift in CCU, code strok...</td>\n",
       "    </tr>\n",
       "    <tr>\n",
       "      <th>1</th>\n",
       "      <td>1,2023-12-25,2,\"Continued night shift, fatigue...</td>\n",
       "    </tr>\n",
       "    <tr>\n",
       "      <th>2</th>\n",
       "      <td>1,2023-12-26,1,\"More sugar and overeating, CCU...</td>\n",
       "    </tr>\n",
       "    <tr>\n",
       "      <th>3</th>\n",
       "      <td>1,2023-12-27,2,\"Off day, interrupted sleep by ...</td>\n",
       "    </tr>\n",
       "    <tr>\n",
       "      <th>4</th>\n",
       "      <td>1,2023-12-28,1,\"CCU day shift, high caffeine, ...</td>\n",
       "    </tr>\n",
       "  </tbody>\n",
       "</table>\n",
       "</div>"
      ],
      "text/plain": [
       "              participant_id,date,stress_level,notes\n",
       "0  1,2023-12-24,2,\"Night shift in CCU, code strok...\n",
       "1  1,2023-12-25,2,\"Continued night shift, fatigue...\n",
       "2  1,2023-12-26,1,\"More sugar and overeating, CCU...\n",
       "3  1,2023-12-27,2,\"Off day, interrupted sleep by ...\n",
       "4  1,2023-12-28,1,\"CCU day shift, high caffeine, ..."
      ]
     },
     "execution_count": 10,
     "metadata": {},
     "output_type": "execute_result"
    }
   ],
   "source": [
    "import pandas as pd\n",
    "\n",
    "df = pd.read_csv(\"C:/Users/lpnhu/Downloads/stress_label_participant1.csv\")\n",
    "df.head()"
   ]
  },
  {
   "cell_type": "code",
   "execution_count": null,
   "id": "f1a5860e",
   "metadata": {},
   "outputs": [],
   "source": []
  }
 ],
 "metadata": {
  "kernelspec": {
   "display_name": "Python 3 (ipykernel)",
   "language": "python",
   "name": "python3"
  },
  "language_info": {
   "codemirror_mode": {
    "name": "ipython",
    "version": 3
   },
   "file_extension": ".py",
   "mimetype": "text/x-python",
   "name": "python",
   "nbconvert_exporter": "python",
   "pygments_lexer": "ipython3",
   "version": "3.11.5"
  }
 },
 "nbformat": 4,
 "nbformat_minor": 5
}
