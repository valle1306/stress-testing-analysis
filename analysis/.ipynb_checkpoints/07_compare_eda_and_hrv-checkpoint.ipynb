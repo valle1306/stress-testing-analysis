{
 "cells": [
  {
   "cell_type": "markdown",
   "id": "a9944e6d",
   "metadata": {},
   "source": [
    "# Objective\n",
    "\n",
    "* Per PI's request, this notebook explores correlations between EDA features and HRV features across participants/ time windows, replacing the prior stress-label-based modeling"
   ]
  },
  {
   "cell_type": "code",
   "execution_count": 1,
   "id": "3252aaed",
   "metadata": {},
   "outputs": [],
   "source": [
    "import pandas as pd\n",
    "import numpy as np\n",
    "import seaborn as sns\n",
    "import matplotlib.pyplot as plt\n",
    "from scipy.stats import spearmanr"
   ]
  },
  {
   "cell_type": "code",
   "execution_count": 2,
   "id": "8409f485",
   "metadata": {},
   "outputs": [],
   "source": [
    "# Load preprocessed feature data\n",
    "eda_df = pd.read_csv(\"C:/Users/lpnhu/Downloads/Stress_Testing_Analysis/preprocessing/eda_feature_matrix.csv\")\n",
    "hrv_df = pd.read_csv(\"C:/Users/lpnhu/Downloads/Stress_Testing_Analysis/preprocessing/hrv_feature_matrix.csv\")"
   ]
  },
  {
   "cell_type": "code",
   "execution_count": 3,
   "id": "f2fe0d8c",
   "metadata": {},
   "outputs": [
    {
     "name": "stdout",
     "output_type": "stream",
     "text": [
      "Merged shape: (85, 4)\n"
     ]
    },
    {
     "data": {
      "text/html": [
       "<div>\n",
       "<style scoped>\n",
       "    .dataframe tbody tr th:only-of-type {\n",
       "        vertical-align: middle;\n",
       "    }\n",
       "\n",
       "    .dataframe tbody tr th {\n",
       "        vertical-align: top;\n",
       "    }\n",
       "\n",
       "    .dataframe thead th {\n",
       "        text-align: right;\n",
       "    }\n",
       "</style>\n",
       "<table border=\"1\" class=\"dataframe\">\n",
       "  <thead>\n",
       "    <tr style=\"text-align: right;\">\n",
       "      <th></th>\n",
       "      <th>date</th>\n",
       "      <th>eda_scl_usiemens</th>\n",
       "      <th>participant_id</th>\n",
       "      <th>prv_rmssd_ms</th>\n",
       "    </tr>\n",
       "  </thead>\n",
       "  <tbody>\n",
       "    <tr>\n",
       "      <th>0</th>\n",
       "      <td>2023-12-24</td>\n",
       "      <td>99.9</td>\n",
       "      <td>1</td>\n",
       "      <td>NaN</td>\n",
       "    </tr>\n",
       "    <tr>\n",
       "      <th>1</th>\n",
       "      <td>2023-12-25</td>\n",
       "      <td>5.6</td>\n",
       "      <td>1</td>\n",
       "      <td>89.5</td>\n",
       "    </tr>\n",
       "    <tr>\n",
       "      <th>2</th>\n",
       "      <td>2023-12-26</td>\n",
       "      <td>27.2</td>\n",
       "      <td>1</td>\n",
       "      <td>97.8</td>\n",
       "    </tr>\n",
       "    <tr>\n",
       "      <th>3</th>\n",
       "      <td>2023-12-27</td>\n",
       "      <td>0.0</td>\n",
       "      <td>1</td>\n",
       "      <td>74.6</td>\n",
       "    </tr>\n",
       "    <tr>\n",
       "      <th>4</th>\n",
       "      <td>2023-12-28</td>\n",
       "      <td>6.5</td>\n",
       "      <td>1</td>\n",
       "      <td>92.0</td>\n",
       "    </tr>\n",
       "  </tbody>\n",
       "</table>\n",
       "</div>"
      ],
      "text/plain": [
       "        date  eda_scl_usiemens  participant_id  prv_rmssd_ms\n",
       "0 2023-12-24              99.9               1           NaN\n",
       "1 2023-12-25               5.6               1          89.5\n",
       "2 2023-12-26              27.2               1          97.8\n",
       "3 2023-12-27               0.0               1          74.6\n",
       "4 2023-12-28               6.5               1          92.0"
      ]
     },
     "execution_count": 3,
     "metadata": {},
     "output_type": "execute_result"
    }
   ],
   "source": [
    "# Convert date columns to datetime for clean merge\n",
    "eda_df['date'] = pd.to_datetime(eda_df['date'])\n",
    "hrv_df['date'] = pd.to_datetime(hrv_df['date'])\n",
    "\n",
    "# Merge on participant_id + date\n",
    "merged_df = pd.merge(eda_df, hrv_df, on=['participant_id', 'date'])\n",
    "\n",
    "print(\"Merged shape:\", merged_df.shape)\n",
    "merged_df.head()\n"
   ]
  },
  {
   "cell_type": "code",
   "execution_count": 4,
   "id": "9ab93603",
   "metadata": {},
   "outputs": [
    {
     "name": "stdout",
     "output_type": "stream",
     "text": [
      "Missing values before imputation:\n",
      "date                0\n",
      "eda_scl_usiemens    0\n",
      "participant_id      0\n",
      "prv_rmssd_ms        3\n",
      "dtype: int64\n",
      "\n",
      " Missing values after imputation:\n",
      "date                0\n",
      "eda_scl_usiemens    0\n",
      "participant_id      0\n",
      "prv_rmssd_ms        0\n",
      "dtype: int64\n"
     ]
    },
    {
     "data": {
      "text/html": [
       "<div>\n",
       "<style scoped>\n",
       "    .dataframe tbody tr th:only-of-type {\n",
       "        vertical-align: middle;\n",
       "    }\n",
       "\n",
       "    .dataframe tbody tr th {\n",
       "        vertical-align: top;\n",
       "    }\n",
       "\n",
       "    .dataframe thead th {\n",
       "        text-align: right;\n",
       "    }\n",
       "</style>\n",
       "<table border=\"1\" class=\"dataframe\">\n",
       "  <thead>\n",
       "    <tr style=\"text-align: right;\">\n",
       "      <th></th>\n",
       "      <th>date</th>\n",
       "      <th>eda_scl_usiemens</th>\n",
       "      <th>participant_id</th>\n",
       "      <th>prv_rmssd_ms</th>\n",
       "    </tr>\n",
       "  </thead>\n",
       "  <tbody>\n",
       "    <tr>\n",
       "      <th>0</th>\n",
       "      <td>2023-12-24</td>\n",
       "      <td>99.9</td>\n",
       "      <td>1</td>\n",
       "      <td>91.5</td>\n",
       "    </tr>\n",
       "    <tr>\n",
       "      <th>1</th>\n",
       "      <td>2023-12-25</td>\n",
       "      <td>5.6</td>\n",
       "      <td>1</td>\n",
       "      <td>89.5</td>\n",
       "    </tr>\n",
       "    <tr>\n",
       "      <th>2</th>\n",
       "      <td>2023-12-26</td>\n",
       "      <td>27.2</td>\n",
       "      <td>1</td>\n",
       "      <td>97.8</td>\n",
       "    </tr>\n",
       "    <tr>\n",
       "      <th>3</th>\n",
       "      <td>2023-12-27</td>\n",
       "      <td>0.0</td>\n",
       "      <td>1</td>\n",
       "      <td>74.6</td>\n",
       "    </tr>\n",
       "    <tr>\n",
       "      <th>4</th>\n",
       "      <td>2023-12-28</td>\n",
       "      <td>6.5</td>\n",
       "      <td>1</td>\n",
       "      <td>92.0</td>\n",
       "    </tr>\n",
       "  </tbody>\n",
       "</table>\n",
       "</div>"
      ],
      "text/plain": [
       "        date  eda_scl_usiemens  participant_id  prv_rmssd_ms\n",
       "0 2023-12-24              99.9               1          91.5\n",
       "1 2023-12-25               5.6               1          89.5\n",
       "2 2023-12-26              27.2               1          97.8\n",
       "3 2023-12-27               0.0               1          74.6\n",
       "4 2023-12-28               6.5               1          92.0"
      ]
     },
     "execution_count": 4,
     "metadata": {},
     "output_type": "execute_result"
    }
   ],
   "source": [
    "# Count missing values\n",
    "print(\"Missing values before imputation:\")\n",
    "print(merged_df.isna().sum())\n",
    "\n",
    "# Impute using median for each feature column (grouped by participant if desired)\n",
    "merged_df_imputed = merged_df.copy()\n",
    "feature_cols = [col for col in merged_df.columns if col not in ['participant_id', 'date']]\n",
    "\n",
    "# group-wise imputation by participant\n",
    "for col in feature_cols:\n",
    "    merged_df_imputed[col] = merged_df.groupby('participant_id')[col].transform(lambda x: x.fillna(x.median()))\n",
    "\n",
    "print(\"\\n Missing values after imputation:\")\n",
    "print(merged_df_imputed.isna().sum())\n",
    "\n",
    "# Preview\n",
    "merged_df_imputed.head()\n"
   ]
  },
  {
   "cell_type": "code",
   "execution_count": 5,
   "id": "d0888901",
   "metadata": {},
   "outputs": [
    {
     "data": {
      "text/html": [
       "<div>\n",
       "<style scoped>\n",
       "    .dataframe tbody tr th:only-of-type {\n",
       "        vertical-align: middle;\n",
       "    }\n",
       "\n",
       "    .dataframe tbody tr th {\n",
       "        vertical-align: top;\n",
       "    }\n",
       "\n",
       "    .dataframe thead th {\n",
       "        text-align: right;\n",
       "    }\n",
       "</style>\n",
       "<table border=\"1\" class=\"dataframe\">\n",
       "  <thead>\n",
       "    <tr style=\"text-align: right;\">\n",
       "      <th></th>\n",
       "      <th>eda_scl_usiemens</th>\n",
       "      <th>prv_rmssd_ms</th>\n",
       "    </tr>\n",
       "  </thead>\n",
       "  <tbody>\n",
       "    <tr>\n",
       "      <th>eda_scl_usiemens</th>\n",
       "      <td>1.0000</td>\n",
       "      <td>0.5316</td>\n",
       "    </tr>\n",
       "    <tr>\n",
       "      <th>prv_rmssd_ms</th>\n",
       "      <td>0.5316</td>\n",
       "      <td>1.0000</td>\n",
       "    </tr>\n",
       "  </tbody>\n",
       "</table>\n",
       "</div>"
      ],
      "text/plain": [
       "                  eda_scl_usiemens  prv_rmssd_ms\n",
       "eda_scl_usiemens            1.0000        0.5316\n",
       "prv_rmssd_ms                0.5316        1.0000"
      ]
     },
     "execution_count": 5,
     "metadata": {},
     "output_type": "execute_result"
    }
   ],
   "source": [
    "# Check correlation between EDA and HRV\n",
    "merged_df_imputed[['eda_scl_usiemens', 'prv_rmssd_ms']].corr()"
   ]
  },
  {
   "cell_type": "code",
   "execution_count": 8,
   "id": "a9a1bf18",
   "metadata": {},
   "outputs": [
    {
     "data": {
      "image/png": "[encoded data removed]",
      "text/plain": [
       "<Figure size 800x600 with 1 Axes>"
      ]
     },
     "metadata": {},
     "output_type": "display_data"
    }
   ],
   "source": [
    "import seaborn as sns\n",
    "import matplotlib.pyplot as plt\n",
    "\n",
    "plt.figure(figsize=(8, 6))\n",
    "sns.regplot(\n",
    "    data=merged_df_imputed,\n",
    "    x='eda_scl_usiemens',\n",
    "    y='prv_rmssd_ms',\n",
    "    scatter=True,\n",
    "    ci=None,       \n",
    "    line_kws={\"color\": \"red\"}\n",
    ")\n",
    "\n",
    "plt.title('EDA vs HRV with Regression Line')\n",
    "plt.xlabel('EDA (μS)')\n",
    "plt.ylabel('HRV (RMSSD)')\n",
    "plt.grid(True)\n",
    "plt.show()\n"
   ]
  },
  {
   "cell_type": "code",
   "execution_count": null,
   "id": "45027bcd",
   "metadata": {},
   "outputs": [],
   "source": []
  }
 ],
 "metadata": {
  "kernelspec": {
   "display_name": "Python 3 (ipykernel)",
   "language": "python",
   "name": "python3"
  },
  "language_info": {
   "codemirror_mode": {
    "name": "ipython",
    "version": 3
   },
   "file_extension": ".py",
   "mimetype": "text/x-python",
   "name": "python",
   "nbconvert_exporter": "python",
   "pygments_lexer": "ipython3",
   "version": "3.11.5"
  }
 },
 "nbformat": 4,
 "nbformat_minor": 5
}
