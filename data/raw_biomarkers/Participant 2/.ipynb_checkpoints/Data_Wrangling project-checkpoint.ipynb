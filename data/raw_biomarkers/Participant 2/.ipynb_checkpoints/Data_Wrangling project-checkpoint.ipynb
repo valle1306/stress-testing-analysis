{
 "cells": [
  {
   "cell_type": "markdown",
   "id": "fcb8e084",
   "metadata": {},
   "source": [
    "# Retrieval of the data"
   ]
  },
  {
   "cell_type": "code",
   "execution_count": 41,
   "id": "8061bddb",
   "metadata": {},
   "outputs": [],
   "source": [
    "import pandas as pd"
   ]
  },
  {
   "cell_type": "markdown",
   "id": "2223f696",
   "metadata": {},
   "source": [
    "## 1. Identifying, documenting data sources"
   ]
  },
  {
   "cell_type": "markdown",
   "id": "f686c8b8",
   "metadata": {},
   "source": [
    "* The data is coming from a public API for crypto exchanging (https://docs.gemini.com/rest-api/#price-feed)\n",
    "* The format after reading is generated using JSON\n",
    "* It is updated (??)"
   ]
  },
  {
   "cell_type": "markdown",
   "id": "0c38c477",
   "metadata": {},
   "source": [
    "### Trading History from Gemini Cryptocurrencies API"
   ]
  },
  {
   "cell_type": "code",
   "execution_count": 42,
   "id": "4cc73034",
   "metadata": {},
   "outputs": [
    {
     "name": "stdout",
     "output_type": "stream",
     "text": [
      "[{'timestamp': 1712257264, 'timestampms': 1712257264493, 'tid': 2840140835406600, 'price': '68508.76', 'amount': '0.05', 'exchange': 'gemini', 'type': 'buy'}, {'timestamp': 1712257262, 'timestampms': 1712257262790, 'tid': 2840140835406572, 'price': '68519.71', 'amount': '0.2', 'exchange': 'gemini', 'type': 'sell'}, {'timestamp': 1712257262, 'timestampms': 1712257262790, 'tid': 2840140835406569, 'price': '68519.71', 'amount': '0.08298', 'exchange': 'gemini', 'type': 'sell'}, {'timestamp': 1712257262, 'timestampms': 1712257262790, 'tid': 2840140835406568, 'price': '68537.22', 'amount': '0.0843', 'exchange': 'gemini', 'type': 'sell'}, {'timestamp': 1712257260, 'timestampms': 1712257260026, 'tid': 2840140835406564, 'price': '68533.75', 'amount': '0.016', 'exchange': 'gemini', 'type': 'buy'}, {'timestamp': 1712257254, 'timestampms': 1712257254503, 'tid': 2840140835406562, 'price': '68553.98', 'amount': '0.021', 'exchange': 'gemini', 'type': 'buy'}, {'timestamp': 1712257251, 'timestampms': 1712257251012, 'tid': 2840140835406560, 'price': '68542.86', 'amount': '0.2', 'exchange': 'gemini', 'type': 'buy'}, {'timestamp': 1712257251, 'timestampms': 1712257251012, 'tid': 2840140835406558, 'price': '68542.86', 'amount': '0.1', 'exchange': 'gemini', 'type': 'buy'}, {'timestamp': 1712257251, 'timestampms': 1712257251008, 'tid': 2840140835406556, 'price': '68542.86', 'amount': '0.3', 'exchange': 'gemini', 'type': 'buy'}, {'timestamp': 1712257251, 'timestampms': 1712257251007, 'tid': 2840140835406554, 'price': '68542.86', 'amount': '0.2', 'exchange': 'gemini', 'type': 'buy'}, {'timestamp': 1712257251, 'timestampms': 1712257251007, 'tid': 2840140835406552, 'price': '68542.86', 'amount': '0.08705', 'exchange': 'gemini', 'type': 'buy'}, {'timestamp': 1712257251, 'timestampms': 1712257251002, 'tid': 2840140835406550, 'price': '68542.86', 'amount': '0.04', 'exchange': 'gemini', 'type': 'buy'}, {'timestamp': 1712257250, 'timestampms': 1712257250987, 'tid': 2840140835406548, 'price': '68527.29', 'amount': '0.0189', 'exchange': 'gemini', 'type': 'buy'}, {'timestamp': 1712257250, 'timestampms': 1712257250864, 'tid': 2840140835406546, 'price': '68518.94', 'amount': '0.04', 'exchange': 'gemini', 'type': 'buy'}, {'timestamp': 1712257249, 'timestampms': 1712257249381, 'tid': 2840140835406536, 'price': '68513.37', 'amount': '0.1701', 'exchange': 'gemini', 'type': 'sell'}, {'timestamp': 1712257249, 'timestampms': 1712257249381, 'tid': 2840140835406535, 'price': '68516.03', 'amount': '0.00060091', 'exchange': 'gemini', 'type': 'sell'}, {'timestamp': 1712257249, 'timestampms': 1712257249381, 'tid': 2840140835406534, 'price': '68517.29', 'amount': '0.0189', 'exchange': 'gemini', 'type': 'sell'}, {'timestamp': 1712257249, 'timestampms': 1712257249381, 'tid': 2840140835406533, 'price': '68528.13', 'amount': '0.00007835', 'exchange': 'gemini', 'type': 'sell'}, {'timestamp': 1712257249, 'timestampms': 1712257249381, 'tid': 2840140835406532, 'price': '68528.92', 'amount': '0.000982', 'exchange': 'gemini', 'type': 'sell'}, {'timestamp': 1712257249, 'timestampms': 1712257249035, 'tid': 2840140835406514, 'price': '68552.52', 'amount': '0.63742', 'exchange': 'gemini', 'type': 'sell'}, {'timestamp': 1712257249, 'timestampms': 1712257249026, 'tid': 2840140835406510, 'price': '68551.22', 'amount': '0.27346', 'exchange': 'gemini', 'type': 'sell'}, {'timestamp': 1712257249, 'timestampms': 1712257249025, 'tid': 2840140835406508, 'price': '68551.22', 'amount': '0.08912', 'exchange': 'gemini', 'type': 'sell'}, {'timestamp': 1712257249, 'timestampms': 1712257249012, 'tid': 2840140835406506, 'price': '68554.65', 'amount': '0.0843', 'exchange': 'gemini', 'type': 'sell'}, {'timestamp': 1712257249, 'timestampms': 1712257249006, 'tid': 2840140835406503, 'price': '68563.68', 'amount': '0.11533', 'exchange': 'gemini', 'type': 'sell'}, {'timestamp': 1712257249, 'timestampms': 1712257249006, 'tid': 2840140835406502, 'price': '68567.6', 'amount': '0.00994', 'exchange': 'gemini', 'type': 'sell'}, {'timestamp': 1712257249, 'timestampms': 1712257249006, 'tid': 2840140835406500, 'price': '68567.6', 'amount': '0.00896', 'exchange': 'gemini', 'type': 'sell'}, {'timestamp': 1712257215, 'timestampms': 1712257215116, 'tid': 2840140835406466, 'price': '68589.67', 'amount': '0.000015', 'exchange': 'gemini', 'type': 'sell'}, {'timestamp': 1712257210, 'timestampms': 1712257210319, 'tid': 2840140835406456, 'price': '68581.6', 'amount': '0.00026979', 'exchange': 'gemini', 'type': 'buy'}, {'timestamp': 1712257208, 'timestampms': 1712257208150, 'tid': 2840140835406454, 'price': '68573.59', 'amount': '0.17824', 'exchange': 'gemini', 'type': 'sell'}, {'timestamp': 1712257202, 'timestampms': 1712257202783, 'tid': 2840140835406446, 'price': '68584.74', 'amount': '0.00002183', 'exchange': 'gemini', 'type': 'sell'}, {'timestamp': 1712257200, 'timestampms': 1712257200028, 'tid': 2840140835406426, 'price': '68629.56', 'amount': '0.1701', 'exchange': 'gemini', 'type': 'buy'}, {'timestamp': 1712257200, 'timestampms': 1712257200028, 'tid': 2840140835406425, 'price': '68627.56', 'amount': '0.0843', 'exchange': 'gemini', 'type': 'buy'}, {'timestamp': 1712257200, 'timestampms': 1712257200028, 'tid': 2840140835406424, 'price': '68627.55', 'amount': '0.04', 'exchange': 'gemini', 'type': 'buy'}, {'timestamp': 1712257200, 'timestampms': 1712257200028, 'tid': 2840140835406423, 'price': '68625.64', 'amount': '0.0189', 'exchange': 'gemini', 'type': 'buy'}, {'timestamp': 1712257200, 'timestampms': 1712257200028, 'tid': 2840140835406422, 'price': '68625.56', 'amount': '0.0843', 'exchange': 'gemini', 'type': 'buy'}, {'timestamp': 1712257196, 'timestampms': 1712257196649, 'tid': 2840140835406420, 'price': '68611.7', 'amount': '0.00362938', 'exchange': 'gemini', 'type': 'buy'}, {'timestamp': 1712257178, 'timestampms': 1712257178245, 'tid': 2840140835406405, 'price': '68582.21', 'amount': '0.00932', 'exchange': 'gemini', 'type': 'buy'}, {'timestamp': 1712257178, 'timestampms': 1712257178237, 'tid': 2840140835406401, 'price': '68582.21', 'amount': '0.00958', 'exchange': 'gemini', 'type': 'buy'}, {'timestamp': 1712257178, 'timestampms': 1712257178237, 'tid': 2840140835406400, 'price': '68582.2', 'amount': '0.04', 'exchange': 'gemini', 'type': 'buy'}, {'timestamp': 1712257178, 'timestampms': 1712257178237, 'tid': 2840140835406399, 'price': '68578.78', 'amount': '0.0843', 'exchange': 'gemini', 'type': 'buy'}, {'timestamp': 1712257178, 'timestampms': 1712257178224, 'tid': 2840140835406394, 'price': '68559.39', 'amount': '0.1267', 'exchange': 'gemini', 'type': 'sell'}, {'timestamp': 1712257178, 'timestampms': 1712257178224, 'tid': 2840140835406393, 'price': '68565.07', 'amount': '0.0843', 'exchange': 'gemini', 'type': 'sell'}, {'timestamp': 1712257178, 'timestampms': 1712257178224, 'tid': 2840140835406392, 'price': '68571.84', 'amount': '0.1701', 'exchange': 'gemini', 'type': 'sell'}, {'timestamp': 1712257178, 'timestampms': 1712257178224, 'tid': 2840140835406391, 'price': '68575.76', 'amount': '0.0189', 'exchange': 'gemini', 'type': 'sell'}, {'timestamp': 1712257170, 'timestampms': 1712257170344, 'tid': 2840140835406385, 'price': '68561.52', 'amount': '0.03658', 'exchange': 'gemini', 'type': 'sell'}, {'timestamp': 1712257170, 'timestampms': 1712257170344, 'tid': 2840140835406384, 'price': '68562.15', 'amount': '0.04', 'exchange': 'gemini', 'type': 'sell'}, {'timestamp': 1712257170, 'timestampms': 1712257170344, 'tid': 2840140835406383, 'price': '68573.01', 'amount': '0.10155', 'exchange': 'gemini', 'type': 'sell'}, {'timestamp': 1712257170, 'timestampms': 1712257170344, 'tid': 2840140835406380, 'price': '68573.01', 'amount': '0.06855', 'exchange': 'gemini', 'type': 'sell'}, {'timestamp': 1712257170, 'timestampms': 1712257170344, 'tid': 2840140835406379, 'price': '68576.93', 'amount': '0.0189', 'exchange': 'gemini', 'type': 'sell'}, {'timestamp': 1712257169, 'timestampms': 1712257169554, 'tid': 2840140835406377, 'price': '68577.89', 'amount': '0.0189', 'exchange': 'gemini', 'type': 'sell'}]\n"
     ]
    }
   ],
   "source": [
    "import requests, json\n",
    "\n",
    "base_url = \"https://api.gemini.com/v1\"\n",
    "response = requests.get(base_url + \"/trades/btcusd\")\n",
    "btcusd_trades = response.json()\n",
    "\n",
    "print(btcusd_trades)"
   ]
  },
  {
   "cell_type": "code",
   "execution_count": 43,
   "id": "894dd1e0",
   "metadata": {},
   "outputs": [],
   "source": [
    "# load data into json array\n",
    "history = json.loads(response.content.decode('utf-8'))"
   ]
  },
  {
   "cell_type": "code",
   "execution_count": 44,
   "id": "e12a5f5b",
   "metadata": {},
   "outputs": [
    {
     "data": {
      "text/plain": [
       "{'timestamp': 1712257264,\n",
       " 'timestampms': 1712257264493,\n",
       " 'tid': 2840140835406600,\n",
       " 'price': '68508.76',\n",
       " 'amount': '0.05',\n",
       " 'exchange': 'gemini',\n",
       " 'type': 'buy'}"
      ]
     },
     "execution_count": 44,
     "metadata": {},
     "output_type": "execute_result"
    }
   ],
   "source": [
    "# print data for first station\n",
    "history[0]"
   ]
  },
  {
   "cell_type": "code",
   "execution_count": 45,
   "id": "ab23ce2b",
   "metadata": {},
   "outputs": [
    {
     "data": {
      "text/plain": [
       "{'timestamp': 1712257251,\n",
       " 'timestampms': 1712257251007,\n",
       " 'tid': 2840140835406554,\n",
       " 'price': '68542.86',\n",
       " 'amount': '0.2',\n",
       " 'exchange': 'gemini',\n",
       " 'type': 'buy'}"
      ]
     },
     "execution_count": 45,
     "metadata": {},
     "output_type": "execute_result"
    }
   ],
   "source": [
    "# print data for tenth station\n",
    "history[9]"
   ]
  },
  {
   "cell_type": "markdown",
   "id": "5087339d",
   "metadata": {},
   "source": [
    "### Load Dataset into Pandas DataFrame\n",
    "Load the JSON Array from the previous section into a Pandas DataFrame and display the first 10 rows. "
   ]
  },
  {
   "cell_type": "code",
   "execution_count": 46,
   "id": "0a612f2c",
   "metadata": {},
   "outputs": [],
   "source": [
    "history_df = pd.DataFrame(history)"
   ]
  },
  {
   "cell_type": "code",
   "execution_count": 47,
   "id": "99a32e6b",
   "metadata": {},
   "outputs": [
    {
     "data": {
      "text/html": [
       "<div>\n",
       "<style scoped>\n",
       "    .dataframe tbody tr th:only-of-type {\n",
       "        vertical-align: middle;\n",
       "    }\n",
       "\n",
       "    .dataframe tbody tr th {\n",
       "        vertical-align: top;\n",
       "    }\n",
       "\n",
       "    .dataframe thead th {\n",
       "        text-align: right;\n",
       "    }\n",
       "</style>\n",
       "<table border=\"1\" class=\"dataframe\">\n",
       "  <thead>\n",
       "    <tr style=\"text-align: right;\">\n",
       "      <th></th>\n",
       "      <th>timestamp</th>\n",
       "      <th>timestampms</th>\n",
       "      <th>tid</th>\n",
       "      <th>price</th>\n",
       "      <th>amount</th>\n",
       "      <th>exchange</th>\n",
       "      <th>type</th>\n",
       "    </tr>\n",
       "  </thead>\n",
       "  <tbody>\n",
       "    <tr>\n",
       "      <th>0</th>\n",
       "      <td>1712257264</td>\n",
       "      <td>1712257264493</td>\n",
       "      <td>2840140835406600</td>\n",
       "      <td>68508.76</td>\n",
       "      <td>0.05</td>\n",
       "      <td>gemini</td>\n",
       "      <td>buy</td>\n",
       "    </tr>\n",
       "    <tr>\n",
       "      <th>1</th>\n",
       "      <td>1712257262</td>\n",
       "      <td>1712257262790</td>\n",
       "      <td>2840140835406572</td>\n",
       "      <td>68519.71</td>\n",
       "      <td>0.2</td>\n",
       "      <td>gemini</td>\n",
       "      <td>sell</td>\n",
       "    </tr>\n",
       "    <tr>\n",
       "      <th>2</th>\n",
       "      <td>1712257262</td>\n",
       "      <td>1712257262790</td>\n",
       "      <td>2840140835406569</td>\n",
       "      <td>68519.71</td>\n",
       "      <td>0.08298</td>\n",
       "      <td>gemini</td>\n",
       "      <td>sell</td>\n",
       "    </tr>\n",
       "    <tr>\n",
       "      <th>3</th>\n",
       "      <td>1712257262</td>\n",
       "      <td>1712257262790</td>\n",
       "      <td>2840140835406568</td>\n",
       "      <td>68537.22</td>\n",
       "      <td>0.0843</td>\n",
       "      <td>gemini</td>\n",
       "      <td>sell</td>\n",
       "    </tr>\n",
       "    <tr>\n",
       "      <th>4</th>\n",
       "      <td>1712257260</td>\n",
       "      <td>1712257260026</td>\n",
       "      <td>2840140835406564</td>\n",
       "      <td>68533.75</td>\n",
       "      <td>0.016</td>\n",
       "      <td>gemini</td>\n",
       "      <td>buy</td>\n",
       "    </tr>\n",
       "    <tr>\n",
       "      <th>5</th>\n",
       "      <td>1712257254</td>\n",
       "      <td>1712257254503</td>\n",
       "      <td>2840140835406562</td>\n",
       "      <td>68553.98</td>\n",
       "      <td>0.021</td>\n",
       "      <td>gemini</td>\n",
       "      <td>buy</td>\n",
       "    </tr>\n",
       "    <tr>\n",
       "      <th>6</th>\n",
       "      <td>1712257251</td>\n",
       "      <td>1712257251012</td>\n",
       "      <td>2840140835406560</td>\n",
       "      <td>68542.86</td>\n",
       "      <td>0.2</td>\n",
       "      <td>gemini</td>\n",
       "      <td>buy</td>\n",
       "    </tr>\n",
       "    <tr>\n",
       "      <th>7</th>\n",
       "      <td>1712257251</td>\n",
       "      <td>1712257251012</td>\n",
       "      <td>2840140835406558</td>\n",
       "      <td>68542.86</td>\n",
       "      <td>0.1</td>\n",
       "      <td>gemini</td>\n",
       "      <td>buy</td>\n",
       "    </tr>\n",
       "    <tr>\n",
       "      <th>8</th>\n",
       "      <td>1712257251</td>\n",
       "      <td>1712257251008</td>\n",
       "      <td>2840140835406556</td>\n",
       "      <td>68542.86</td>\n",
       "      <td>0.3</td>\n",
       "      <td>gemini</td>\n",
       "      <td>buy</td>\n",
       "    </tr>\n",
       "    <tr>\n",
       "      <th>9</th>\n",
       "      <td>1712257251</td>\n",
       "      <td>1712257251007</td>\n",
       "      <td>2840140835406554</td>\n",
       "      <td>68542.86</td>\n",
       "      <td>0.2</td>\n",
       "      <td>gemini</td>\n",
       "      <td>buy</td>\n",
       "    </tr>\n",
       "  </tbody>\n",
       "</table>\n",
       "</div>"
      ],
      "text/plain": [
       "    timestamp    timestampms               tid     price   amount exchange  \\\n",
       "0  1712257264  1712257264493  2840140835406600  68508.76     0.05   gemini   \n",
       "1  1712257262  1712257262790  2840140835406572  68519.71      0.2   gemini   \n",
       "2  1712257262  1712257262790  2840140835406569  68519.71  0.08298   gemini   \n",
       "3  1712257262  1712257262790  2840140835406568  68537.22   0.0843   gemini   \n",
       "4  1712257260  1712257260026  2840140835406564  68533.75    0.016   gemini   \n",
       "5  1712257254  1712257254503  2840140835406562  68553.98    0.021   gemini   \n",
       "6  1712257251  1712257251012  2840140835406560  68542.86      0.2   gemini   \n",
       "7  1712257251  1712257251012  2840140835406558  68542.86      0.1   gemini   \n",
       "8  1712257251  1712257251008  2840140835406556  68542.86      0.3   gemini   \n",
       "9  1712257251  1712257251007  2840140835406554  68542.86      0.2   gemini   \n",
       "\n",
       "   type  \n",
       "0   buy  \n",
       "1  sell  \n",
       "2  sell  \n",
       "3  sell  \n",
       "4   buy  \n",
       "5   buy  \n",
       "6   buy  \n",
       "7   buy  \n",
       "8   buy  \n",
       "9   buy  "
      ]
     },
     "execution_count": 47,
     "metadata": {},
     "output_type": "execute_result"
    }
   ],
   "source": [
    "history_df.head(10)"
   ]
  },
  {
   "cell_type": "markdown",
   "id": "b33325db",
   "metadata": {},
   "source": [
    "### Dataset Detail"
   ]
  },
  {
   "cell_type": "code",
   "execution_count": 51,
   "id": "73448f1a",
   "metadata": {},
   "outputs": [
    {
     "name": "stdout",
     "output_type": "stream",
     "text": [
      "<class 'pandas.core.frame.DataFrame'>\n",
      "RangeIndex: 50 entries, 0 to 49\n",
      "Data columns (total 7 columns):\n",
      " #   Column       Non-Null Count  Dtype  \n",
      "---  ------       --------------  -----  \n",
      " 0   timestamp    50 non-null     int64  \n",
      " 1   timestampms  50 non-null     int64  \n",
      " 2   tid          50 non-null     int64  \n",
      " 3   price        50 non-null     float64\n",
      " 4   amount       50 non-null     float64\n",
      " 5   exchange     50 non-null     object \n",
      " 6   type         50 non-null     object \n",
      "dtypes: float64(2), int64(3), object(2)\n",
      "memory usage: 2.9+ KB\n"
     ]
    }
   ],
   "source": [
    "history_df.info()"
   ]
  },
  {
   "cell_type": "code",
   "execution_count": 49,
   "id": "c61152bd",
   "metadata": {},
   "outputs": [],
   "source": [
    "# Change price and amount to floats\n",
    "history_df['price'] = history_df['price'].astype(float)\n",
    "history_df['amount']= history_df['amount'].astype(float)"
   ]
  },
  {
   "cell_type": "code",
   "execution_count": 50,
   "id": "248c4cb8",
   "metadata": {},
   "outputs": [
    {
     "data": {
      "text/html": [
       "<div>\n",
       "<style scoped>\n",
       "    .dataframe tbody tr th:only-of-type {\n",
       "        vertical-align: middle;\n",
       "    }\n",
       "\n",
       "    .dataframe tbody tr th {\n",
       "        vertical-align: top;\n",
       "    }\n",
       "\n",
       "    .dataframe thead th {\n",
       "        text-align: right;\n",
       "    }\n",
       "</style>\n",
       "<table border=\"1\" class=\"dataframe\">\n",
       "  <thead>\n",
       "    <tr style=\"text-align: right;\">\n",
       "      <th></th>\n",
       "      <th>timestamp</th>\n",
       "      <th>timestampms</th>\n",
       "      <th>tid</th>\n",
       "      <th>price</th>\n",
       "      <th>amount</th>\n",
       "    </tr>\n",
       "  </thead>\n",
       "  <tbody>\n",
       "    <tr>\n",
       "      <th>count</th>\n",
       "      <td>5.000000e+01</td>\n",
       "      <td>5.000000e+01</td>\n",
       "      <td>5.000000e+01</td>\n",
       "      <td>50.000000</td>\n",
       "      <td>50.000000</td>\n",
       "    </tr>\n",
       "    <tr>\n",
       "      <th>mean</th>\n",
       "      <td>1.712257e+09</td>\n",
       "      <td>1.712257e+12</td>\n",
       "      <td>2.840141e+15</td>\n",
       "      <td>68561.757800</td>\n",
       "      <td>0.085138</td>\n",
       "    </tr>\n",
       "    <tr>\n",
       "      <th>std</th>\n",
       "      <td>3.499374e+01</td>\n",
       "      <td>3.500425e+04</td>\n",
       "      <td>7.146321e+01</td>\n",
       "      <td>32.055367</td>\n",
       "      <td>0.108956</td>\n",
       "    </tr>\n",
       "    <tr>\n",
       "      <th>min</th>\n",
       "      <td>1.712257e+09</td>\n",
       "      <td>1.712257e+12</td>\n",
       "      <td>2.840141e+15</td>\n",
       "      <td>68508.760000</td>\n",
       "      <td>0.000015</td>\n",
       "    </tr>\n",
       "    <tr>\n",
       "      <th>25%</th>\n",
       "      <td>1.712257e+09</td>\n",
       "      <td>1.712257e+12</td>\n",
       "      <td>2.840141e+15</td>\n",
       "      <td>68542.860000</td>\n",
       "      <td>0.018900</td>\n",
       "    </tr>\n",
       "    <tr>\n",
       "      <th>50%</th>\n",
       "      <td>1.712257e+09</td>\n",
       "      <td>1.712257e+12</td>\n",
       "      <td>2.840141e+15</td>\n",
       "      <td>68561.835000</td>\n",
       "      <td>0.045000</td>\n",
       "    </tr>\n",
       "    <tr>\n",
       "      <th>75%</th>\n",
       "      <td>1.712257e+09</td>\n",
       "      <td>1.712257e+12</td>\n",
       "      <td>2.840141e+15</td>\n",
       "      <td>68578.557500</td>\n",
       "      <td>0.101163</td>\n",
       "    </tr>\n",
       "    <tr>\n",
       "      <th>max</th>\n",
       "      <td>1.712257e+09</td>\n",
       "      <td>1.712257e+12</td>\n",
       "      <td>2.840141e+15</td>\n",
       "      <td>68629.560000</td>\n",
       "      <td>0.637420</td>\n",
       "    </tr>\n",
       "  </tbody>\n",
       "</table>\n",
       "</div>"
      ],
      "text/plain": [
       "          timestamp   timestampms           tid         price     amount\n",
       "count  5.000000e+01  5.000000e+01  5.000000e+01     50.000000  50.000000\n",
       "mean   1.712257e+09  1.712257e+12  2.840141e+15  68561.757800   0.085138\n",
       "std    3.499374e+01  3.500425e+04  7.146321e+01     32.055367   0.108956\n",
       "min    1.712257e+09  1.712257e+12  2.840141e+15  68508.760000   0.000015\n",
       "25%    1.712257e+09  1.712257e+12  2.840141e+15  68542.860000   0.018900\n",
       "50%    1.712257e+09  1.712257e+12  2.840141e+15  68561.835000   0.045000\n",
       "75%    1.712257e+09  1.712257e+12  2.840141e+15  68578.557500   0.101163\n",
       "max    1.712257e+09  1.712257e+12  2.840141e+15  68629.560000   0.637420"
      ]
     },
     "execution_count": 50,
     "metadata": {},
     "output_type": "execute_result"
    }
   ],
   "source": [
    "history_df.describe()"
   ]
  }
 ],
 "metadata": {
  "kernelspec": {
   "display_name": "Python 3 (ipykernel)",
   "language": "python",
   "name": "python3"
  },
  "language_info": {
   "codemirror_mode": {
    "name": "ipython",
    "version": 3
   },
   "file_extension": ".py",
   "mimetype": "text/x-python",
   "name": "python",
   "nbconvert_exporter": "python",
   "pygments_lexer": "ipython3",
   "version": "3.11.5"
  }
 },
 "nbformat": 4,
 "nbformat_minor": 5
}
