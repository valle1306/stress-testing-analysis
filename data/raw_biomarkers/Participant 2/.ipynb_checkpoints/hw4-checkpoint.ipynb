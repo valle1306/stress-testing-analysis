{
 "cells": [
  {
   "cell_type": "markdown",
   "metadata": {},
   "source": [
    "# MSDS 534: Statistical Learning - Homework 4"
   ]
  },
  {
   "cell_type": "markdown",
   "metadata": {},
   "source": [
    "### NAME:  _______\n",
    "\n",
    "### NET ID:  _______"
   ]
  },
  {
   "cell_type": "markdown",
   "metadata": {},
   "source": []
  },
  {
   "cell_type": "code",
   "execution_count": 1,
   "metadata": {},
   "outputs": [
    {
     "name": "stderr",
     "output_type": "stream",
     "text": [
      "/Users/gm845/anaconda3/envs/msds534/lib/python3.11/site-packages/tqdm/auto.py:21: TqdmWarning: IProgress not found. Please update jupyter and ipywidgets. See https://ipywidgets.readthedocs.io/en/stable/user_install.html\n",
      "  from .autonotebook import tqdm as notebook_tqdm\n"
     ]
    }
   ],
   "source": [
    "import numpy as np\n",
    "import pandas as pd\n",
    "import seaborn as sns\n",
    "import matplotlib.pyplot as plt\n",
    "import torch\n",
    "import torch.nn as nn\n",
    "import torch.nn.functional as F\n",
    "from torch import optim\n",
    "from torch.utils.data import TensorDataset, DataLoader\n",
    "import warnings\n",
    "import itertools\n",
    "from transformers import BertTokenizer, BertModel\n",
    "\n",
    "\n",
    "warnings.filterwarnings('ignore')"
   ]
  },
  {
   "cell_type": "markdown",
   "metadata": {},
   "source": [
    "## Movie data\n",
    "* each movie has a short \"overview\" text description\n",
    "* movie is assigned genres\n",
    "\n",
    "\n",
    "### key attributes:\n",
    "* genres in genres_to_predict\n",
    "* bert features of \"overview\" stores in bert_feats columns"
   ]
  },
  {
   "cell_type": "code",
   "execution_count": 2,
   "metadata": {},
   "outputs": [
    {
     "name": "stdout",
     "output_type": "stream",
     "text": [
      "                         title  \\\n",
      "0            The Shipping News   \n",
      "1                Jack and Jill   \n",
      "2                    Show Boat   \n",
      "3  The Man with the Iron Fists   \n",
      "4                     Red Dawn   \n",
      "\n",
      "                                            overview  Action  Adventure  \\\n",
      "0  An emotionally-beaten man with his young daugh...       0          0   \n",
      "1  Jack Sadelstein, a successful advertising exec...       0          0   \n",
      "2  A dashing Mississippi river gambler wins the a...       0          0   \n",
      "3  In feudal China, a blacksmith who makes weapon...       1          0   \n",
      "4  It is the mid-1980s. From out of the sky, Sovi...       1          0   \n",
      "\n",
      "   Comedy  Drama  Romance  Science Fiction  Crime  Horror  Fantasy  Animation  \n",
      "0       0      1        1                0      0       0        0          0  \n",
      "1       1      0        0                0      0       0        0          0  \n",
      "2       0      0        1                0      0       0        0          0  \n",
      "3       0      0        0                0      0       0        0          0  \n",
      "4       0      0        0                0      0       0        0          0  \n"
     ]
    }
   ],
   "source": [
    "movies_df = pd.read_csv('movies_embedding.csv')\n",
    "\n",
    "## shuffle the rows\n",
    "movies_df = movies_df.sample(frac=1, random_state=42).reset_index(drop=True)\n",
    "\n",
    "genres_to_predict = ['Action', 'Adventure', 'Comedy', 'Drama', 'Romance',\n",
    "                        'Science Fiction', 'Crime', 'Horror', \n",
    "                        'Fantasy', 'Animation']\n",
    "\n",
    "BERT_LEN = 768\n",
    "bert_feats = ['bert_'+str(i) for i in range(BERT_LEN)]\n",
    "\n",
    "print(movies_df[[\"title\", \"overview\"] + genres_to_predict].head())\n",
    "\n"
   ]
  },
  {
   "cell_type": "markdown",
   "metadata": {},
   "source": [
    "## Create data"
   ]
  },
  {
   "cell_type": "code",
   "execution_count": 3,
   "metadata": {},
   "outputs": [],
   "source": [
    "x = np.array(movies_df[bert_feats])\n",
    "y = np.array(movies_df[genres_to_predict])\n",
    "\n",
    "x = torch.tensor(x, dtype=torch.float32)\n",
    "y = torch.tensor(y, dtype=torch.float32)\n"
   ]
  },
  {
   "cell_type": "markdown",
   "metadata": {},
   "source": [
    "## Question 1:\n",
    "\n",
    "Split data X, Y into training and test data.\n",
    "\n",
    "Further split training data into D1 and D2, where D1 is used to train predictive model and D2 is used to calibrate prediction set."
   ]
  },
  {
   "cell_type": "code",
   "execution_count": null,
   "metadata": {},
   "outputs": [],
   "source": [
    "ntrain = 3000\n",
    "n1 = 2500\n",
    "\n",
    "x_train = x[:ntrain]\n",
    "x_test = x[ntrain:]\n",
    "\n",
    "y_train = y[:ntrain]\n",
    "y_test = y[ntrain:]\n",
    "\n",
    "x_train1 = [INSERT CODE]\n",
    "y_train1 = [INSERT CODE]\n",
    "\n",
    "x_train2 = [INSERT CODE]\n",
    "y_train2 = [INSERT CODE]"
   ]
  },
  {
   "cell_type": "markdown",
   "metadata": {},
   "source": [
    "## Question 2: \n",
    "Create a feed-forward neural network to predict movie genres"
   ]
  },
  {
   "cell_type": "code",
   "execution_count": null,
   "metadata": {},
   "outputs": [],
   "source": [
    "## NN should have 2 hidden layers, with dimension hidden_dims[0] and hidden_dims[1]\n",
    "## Use ReLU as the activation function for the hidden layers\n",
    "## Use Sigmoid as the activation function for the output layer\n",
    "class MovieNet(nn.Module):\n",
    "    def __init__(self, input_dim, hidden_dims, out_dim):\n",
    "        super(MovieNet, self).__init__()\n",
    "        self.layers = nn.Sequential(\n",
    "            [INSERT CODE]\n",
    "        )\n",
    "\n",
    "    def forward(self, x):\n",
    "        return self.layers(x)\n"
   ]
  },
  {
   "cell_type": "markdown",
   "metadata": {},
   "source": [
    "## Question 3:\n",
    "Train the neural network to predict movie genres"
   ]
  },
  {
   "cell_type": "code",
   "execution_count": null,
   "metadata": {},
   "outputs": [],
   "source": [
    "## train neural network to predict genres\n",
    "train_data = [INSERT CODE]\n",
    "\n",
    "train_loader = DataLoader(train_data, batch_size=20, shuffle=True)\n",
    "\n",
    "epochs = 200\n",
    "hidden_dims = [32, 16]\n",
    "\n",
    "model = MovieNet( [INSERT CODE] )\n",
    "lr = 0.001\n",
    "optimizer = optim.Adam(model.parameters(), lr=lr)\n",
    "\n",
    "for epoch in range(epochs):\n",
    "    for x_batch, y_batch in train_loader:\n",
    "        y_pred = model(x_batch)\n",
    "        loss = F.binary_cross_entropy(y_pred, y_batch)\n",
    "        loss.backward()\n",
    "        optimizer.step()\n",
    "        optimizer.zero_grad()\n",
    "\n",
    "    if epoch % 50 == 0:\n",
    "        print('Epoch %d, loss %.4f' % (epoch, loss.item()))\n"
   ]
  },
  {
   "cell_type": "markdown",
   "metadata": {},
   "source": [
    "## Question 4:\n",
    "\n",
    "Recall we have 10 genres.\n",
    "\n",
    "`outcome` is a 10-dimensional binary list or tuple.\n",
    "\n",
    "`probs` is a 10-dimensional list of probability of each genre.\n",
    "\n",
    "You will complete the following functions:\n",
    "* `computeScore` compute non-conformity score of an outcome, based on predicted probabilities\n",
    "* `computeConformalSet` computes the prediction set\n"
   ]
  },
  {
   "cell_type": "code",
   "execution_count": null,
   "metadata": {},
   "outputs": [],
   "source": [
    "\n",
    "## you may find this function helpful\n",
    "def computeProbability(sequence, probs):\n",
    "    return(np.prod([probs[i] if sequence[i] == 1 else 1 - probs[i] for i in range(len(sequence))]))\n",
    "\n",
    "\n",
    "def computeScore(my_outcome, probs):\n",
    "    [INSERT CODE]\n",
    "\n",
    "\n",
    "\n",
    "def computeConformalSet(probs, scores, alpha):\n",
    "    n2 = len(scores)\n",
    "    threshold = [INSERT CODE]\n",
    "\n",
    "    all_outcomes = list(itertools.product([0,1], repeat=len(probs)))\n",
    "    sorted_outcomes = sorted(all_outcomes, key=lambda x: computeProbability(x, probs), reverse=True)\n",
    "    \n",
    "    sorted_probs = [computeProbability(outcome, probs) for outcome in sorted_outcomes]\n",
    "    cumulative_probs = [INSERT CODE]\n",
    "\n",
    "    conformal_ix = np.where(cumulative_probs > threshold)[0][0]\n",
    "    conformal_prediction_set = [INSERT CODE]\n",
    "\n",
    "    return(conformal_prediction_set)\n",
    "\n",
    "\n",
    "## used to more easily display the conformal prediction set\n",
    "def confGenreSet(conf_set, genres_to_predict):\n",
    "    return( [ [genres_to_predict[i] for i in range(len(conf_set[k])) \n",
    "        if conf_set[k][i] == 1] for k in range(len(conf_set)) ] )\n"
   ]
  },
  {
   "cell_type": "markdown",
   "metadata": {},
   "source": [
    "## Question 5: \n",
    "Compute the non-conformity scores on D2."
   ]
  },
  {
   "cell_type": "code",
   "execution_count": null,
   "metadata": {},
   "outputs": [],
   "source": [
    "\n",
    "y_pred2 = model(x_train2)\n",
    "y_pred2 = y_pred2.detach().numpy()\n",
    "\n",
    "scores = np.zeros(ntrain-n1)\n",
    "for j in range(ntrain-n1):\n",
    "    scores[j] = [INSERT CODE]\n"
   ]
  },
  {
   "cell_type": "code",
   "execution_count": null,
   "metadata": {},
   "outputs": [],
   "source": [
    "alpha = 0.2\n",
    "\n",
    "print(\"Adjusted threshold: \", np.quantile(scores, 1-alpha))"
   ]
  },
  {
   "cell_type": "markdown",
   "metadata": {},
   "source": [
    "## Question 6:\n",
    "\n",
    "Check whether our conformal prediction set has the desired coverage guarantee on test data."
   ]
  },
  {
   "cell_type": "code",
   "execution_count": null,
   "metadata": {},
   "outputs": [],
   "source": [
    "\n",
    "ntest = 200\n",
    "covered = 0\n",
    "for i in range(ntest):\n",
    "    \n",
    "    cur_y_pred = model(x_test[i])\n",
    "    cur_y_pred = cur_y_pred.detach().numpy()\n",
    "\n",
    "    conf_set = [INSERT CODE]\n",
    "\n",
    "    y_test_tuple = tuple(y_test[i].int().tolist())\n",
    "    \n",
    "    if (y_test_tuple in conf_set):\n",
    "        covered = covered + 1\n",
    "    else:\n",
    "        conf_genres = confGenreSet(conf_set, genres_to_predict)\n",
    "\n",
    "        ## display mistake\n",
    "        print(movies_df.iloc[i+ntest]['title'])\n",
    "        print(movies_df.iloc[i+ntest]['overview'])\n",
    "        print('Actual genres: ', [genres_to_predict[j] for j in range(len(genres_to_predict)) if y_test_tuple[j] == 1])\n",
    "        print('Prediction set: ', conf_genres)\n",
    "        print('')\n",
    "\n",
    "print(\"(1-alpha): %.3f    Percent covered: %.3f\" % (1-alpha, covered/ntest))"
   ]
  },
  {
   "cell_type": "markdown",
   "metadata": {},
   "source": [
    "## Extra:\n",
    "\n",
    "Try generating the prediction sets for each of the following made-up movie descriptions.\n",
    "\n"
   ]
  },
  {
   "cell_type": "code",
   "execution_count": null,
   "metadata": {},
   "outputs": [],
   "source": [
    "\n",
    "tokenizer = BertTokenizer.from_pretrained('bert-base-uncased')\n",
    "bert = BertModel.from_pretrained('bert-base-uncased')\n",
    "\n",
    "my_movie_collection = [\n",
    "\"Orphaned fox befriends a lost magical bird, together they embark on a quest, discovering true family, courage, and enchanted realms\",\n",
    "\"In a galaxy ruled by machines, a rebellious pilot and a rogue android uncover a cosmic secret, igniting an interstellar chase, alliances, betrayals, and the fate of sentient life.\",\n",
    "\"In post-war Paris, an estranged violinist encounters a mute child prodigy, together navigating trauma and rediscovery, their melodies weaving stories of loss, love, and the power of connection\",\n",
    "\"Exploring abandoned asylums, a documentary crew uncovers chilling histories intertwined with the supernatural. As they delve deeper, the line between reality and nightmare becomes hauntingly blurred, ensnaring them forever.\",\n",
    "\"An uptight lawyer's world turns upside down when a free-spirited barista accidentally receives his trial notes. Amidst coffee spills and court blunders, they find love in the most unexpected verdict\",\n",
    "]\n",
    "\n",
    "for my_movie in my_movie_collection:\n",
    "\n",
    "    my_movie_tokens = tokenizer(my_movie, return_tensors='pt', \n",
    "                                max_length=128, padding='max_length', truncation=True)\n",
    "\n",
    "    with torch.no_grad():\n",
    "        my_movie_embed = bert(**my_movie_tokens)[1].detach().numpy()[0]\n",
    "        \n",
    "    my_pred = model(torch.tensor(my_movie_embed))\n",
    "    my_pred = my_pred.detach().numpy()\n",
    "\n",
    "    conf_set = computeConformalSet(my_pred, scores, alpha)\n",
    "    genre_set = confGenreSet(conf_set, genres_to_predict)\n",
    "\n",
    "    mydf = pd.DataFrame({'genres' : genres_to_predict, 'probs' : my_pred})\n",
    "\n",
    "    print(my_movie)\n",
    "\n",
    "    print(\"Output probabilities:\")\n",
    "    print(mydf)\n",
    "\n",
    "    print(\"Prediction set:\")\n",
    "    for guess in genre_set:\n",
    "        print(guess)\n",
    "    print(\"\")\n"
   ]
  },
  {
   "cell_type": "code",
   "execution_count": null,
   "metadata": {},
   "outputs": [],
   "source": []
  }
 ],
 "metadata": {
  "kernelspec": {
   "display_name": "Python 3 (ipykernel)",
   "language": "python",
   "name": "python3"
  },
  "language_info": {
   "codemirror_mode": {
    "name": "ipython",
    "version": 3
   },
   "file_extension": ".py",
   "mimetype": "text/x-python",
   "name": "python",
   "nbconvert_exporter": "python",
   "pygments_lexer": "ipython3",
   "version": "3.11.5"
  }
 },
 "nbformat": 4,
 "nbformat_minor": 2
}
